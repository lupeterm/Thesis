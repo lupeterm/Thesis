{
 "cells": [
  {
   "cell_type": "code",
   "execution_count": null,
   "metadata": {},
   "outputs": [],
   "source": [
    "from argparse import ArgumentParser\n",
    "from operator import gt, index\n",
    "from typing import Dict, List, Optional, Set, Tuple, Union\n",
    "import open3d as o3d\n",
    "import numpy as np\n",
    "import sys\n",
    "import matplotlib.pyplot as plt \n",
    "import os\n",
    "from tqdm.notebook import tqdm"
   ]
  },
  {
   "cell_type": "code",
   "execution_count": null,
   "metadata": {},
   "outputs": [],
   "source": [
    "class Plane:\n",
    "    def __init__(self, points: np.ndarray, index: int, name: str)-> None:\n",
    "        self.inliers = points\n",
    "        self.index = index\n",
    "        self.name = name\n",
    "        self.voxels = set()\n",
    "        self.correspondence: float = -1  # -1: not found\n",
    "        self.found = False\n",
    "        self.gt_index: Union[int, None] = None"
   ]
  },
  {
   "cell_type": "code",
   "execution_count": null,
   "metadata": {},
   "outputs": [],
   "source": [
    "def read_planes(folder: str)-> List[Plane]:\n",
    "    planes: List[Plane] = []\n",
    "    for filename in tqdm(os.listdir(folder)):\n",
    "        if filename.endswith('.txt'):\n",
    "            # only use x,y,z values (ignore rgb)\n",
    "            points = np.loadtxt(f'{folder}/{filename}', usecols=(0,1,2))\n",
    "            name = filename.replace('.txt', '')\n",
    "            planes.append(Plane(points, len(planes), name))\n",
    "        else:\n",
    "            points = []\n",
    "            with open(f'{folder}/{filename}', 'r') as file:\n",
    "                for line in file.readlines()[12:]:\n",
    "                    l = line.split(' ')[:3]\n",
    "                    points.append([float(v) for v in l])\n",
    "            points = np.array(points)\n",
    "            name = filename.replace('.pcd', '')\n",
    "            planes.append(Plane(points, len(planes), name))\n",
    "    return planes"
   ]
  },
  {
   "cell_type": "code",
   "execution_count": 130,
   "metadata": {},
   "outputs": [],
   "source": [
    "def calc_plane_voxels(planes: List[Plane], voxel_grid: o3d.geometry.VoxelGrid)-> None:\n",
    "    # calculate corresponding voxels for each plane\n",
    "    for plane in planes:\n",
    "        for point in plane.inliers:\n",
    "            corr_voxel = tuple(voxel_grid.get_voxel(point))\n",
    "            plane.voxels.add(corr_voxel)"
   ]
  },
  {
   "cell_type": "code",
   "execution_count": 201,
   "metadata": {},
   "outputs": [],
   "source": [
    "def get_correspondence(ground_truth: List[Plane], a_plane: Plane):\n",
    "    inlier_count: Dict[int, int] = dict()\n",
    "    inlier_count[-1] = 0\n",
    "    for a_vox in a_plane.voxels:\n",
    "        found = False\n",
    "        for gt_plane in ground_truth:\n",
    "            if a_vox in gt_plane.voxels:\n",
    "                if gt_plane.index not in inlier_count.keys():\n",
    "                    inlier_count[gt_plane.index] = 0\n",
    "                inlier_count[gt_plane.index] += 1\n",
    "                found = True\n",
    "                break\n",
    "    best = -1\n",
    "    for index, count in inlier_count.items():\n",
    "        if count > inlier_count[best]:\n",
    "            best = index\n",
    "    if best == -1 or inlier_count[best] < len(a_plane.inliers) / 2:\n",
    "        return None\n",
    "    ground_truth[best].found = True\n",
    "    return ground_truth[best]"
   ]
  },
  {
   "cell_type": "code",
   "execution_count": null,
   "metadata": {},
   "outputs": [],
   "source": [
    "\n",
    "def find_correspondences(groundtruth: List[Plane], algo_planes: List[Plane]) -> Dict[Plane, Union[Plane, None]]:\n",
    "    corr: Dict[Plane, Union[Plane, None]] = dict()\n",
    "    for a_plane in tqdm(algo_planes):\n",
    "        corr[a_plane] = get_correspondence(groundtruth, a_plane)\n",
    "        print(corr[a_plane])\n",
    "    return corr\n"
   ]
  },
  {
   "cell_type": "code",
   "execution_count": 143,
   "metadata": {},
   "outputs": [],
   "source": [
    "def get_precision(correspondences: Dict[Plane, Union[Plane, None]], grid: o3d.geometry.VoxelGrid)-> float:\n",
    "    all_leaves = set()\n",
    "    correct_leaves = set()\n",
    "    for a_plane, gt_plane in tqdm(correspondences.items()):\n",
    "        tmp_all = 0\n",
    "        tmp_c = 0\n",
    "        for a_in in a_plane.inliers:\n",
    "            voxel = tuple(grid.get_voxel(a_in))\n",
    "            all_leaves.add(voxel)\n",
    "            tmp_all += 1\n",
    "            if gt_plane != None and a_in in  gt_plane.inliers:\n",
    "                tmp_c += 1\n",
    "                correct_leaves.add(voxel)\n",
    "        print(f'{tmp_c / tmp_all = }')\n",
    "    return len(correct_leaves) / len(all_leaves)"
   ]
  },
  {
   "cell_type": "code",
   "execution_count": 198,
   "metadata": {},
   "outputs": [],
   "source": [
    "def get_recall(ground_truth: List[Plane],correspondences: Dict[Plane, Union[Plane, None]], grid: o3d.geometry.VoxelGrid) -> float:\n",
    "    all_leaves = set()\n",
    "    correct_leaves = set()\n",
    "    for g_plane in tqdm(ground_truth):\n",
    "        for g_in in g_plane.inliers:\n",
    "            voxel = tuple(grid.get_voxel(g_in))\n",
    "        # for voxel in g_plane.voxels:\n",
    "            all_leaves.add(voxel)\n",
    "            for a_plane, gt_plane in correspondences.items():\n",
    "                if gt_plane == g_plane and g_in in a_plane.inliers:\n",
    "                    correct_leaves.add(voxel)\n",
    "                    break\n",
    "    return len(correct_leaves) / len(all_leaves)\n",
    "\n"
   ]
  },
  {
   "cell_type": "markdown",
   "metadata": {},
   "source": [
    "### MAIN"
   ]
  },
  {
   "cell_type": "code",
   "execution_count": 174,
   "metadata": {},
   "outputs": [],
   "source": [
    "# setup\n",
    "data = [\n",
    "    \"./Stanford3dDataset_v1.2_Aligned_Version/Area_4/conferenceRoom_2/conferenceRoom_2.txt_out.pcd\",\n",
    "    \"Stanford3dDataset_v1.2_Aligned_Version/Area_4/conferenceRoom_2/testOPS\",\n",
    "    \"Stanford3dDataset_v1.2_Aligned_Version/Area_4/conferenceRoom_2/GT\",\n",
    "    \"Stanford3dDataset_v1.2_Aligned_Version/Area_3/WC_1/WC_1.pcd\",\n",
    "    \"Stanford3dDataset_v1.2_Aligned_Version/Area_3/WC_1/OPS\",\n",
    "    \"Stanford3dDataset_v1.2_Aligned_Version/Area_3/WC_1/WC_1_GT/PCD\",\n",
    "    ]\n",
    "\n",
    "pcd_file = data[0]\n",
    "planes_folder = data[1]\n",
    "gt_folder = data[2]\n",
    "# pcd_file = \"Stanford3dDataset_v1.2_Aligned_Version/Area_4/conferenceRoom_2/conferenceRoom_2.txt_out.pcd\"\n",
    "# planes_folder = \"Stanford3dDataset_v1.2_Aligned_Version/Area_4/conferenceRoom_2/OPS\"\n",
    "# gt_folder = \"Stanford3dDataset_v1.2_Aligned_Version/Area_4/conferenceRoom_2/GT\"\n"
   ]
  },
  {
   "cell_type": "code",
   "execution_count": 175,
   "metadata": {},
   "outputs": [],
   "source": [
    "pcd = o3d.io.read_point_cloud(pcd_file)\n",
    "grid = o3d.geometry.VoxelGrid.create_from_point_cloud(pcd,voxel_size=0.05)\n",
    "o3d.visualization.draw_geometries([grid])"
   ]
  },
  {
   "cell_type": "code",
   "execution_count": 177,
   "metadata": {},
   "outputs": [
    {
     "name": "stderr",
     "output_type": "stream",
     "text": [
      "/tmp/ipykernel_289475/2843875347.py:1: VisibleDeprecationWarning: Creating an ndarray from ragged nested sequences (which is a list-or-tuple of lists-or-tuples-or ndarrays with different lengths or shapes) is deprecated. If you meant to do this, you must specify 'dtype=object' when creating the ndarray.\n",
      "  points = np.array([p.inliers for p in ground_truth])\n"
     ]
    }
   ],
   "source": [
    "points = np.array([p.inliers for p in ground_truth])\n",
    "gt_pcd = o3d.geometry.PointCloud()\n",
    "gt_pcd.points = o3d.utility.Vector3dVector(points[0])\n",
    "gt_grid = o3d.geometry.VoxelGrid.create_from_point_cloud(gt_pcd,voxel_size=0.05)\n",
    "o3d.visualization.draw_geometries([gt_grid])"
   ]
  },
  {
   "cell_type": "code",
   "execution_count": 176,
   "metadata": {},
   "outputs": [
    {
     "data": {
      "application/vnd.jupyter.widget-view+json": {
       "model_id": "f54102f25c794d2ebda852b704557e52",
       "version_major": 2,
       "version_minor": 0
      },
      "text/plain": [
       "  0%|          | 0/45 [00:00<?, ?it/s]"
      ]
     },
     "metadata": {},
     "output_type": "display_data"
    },
    {
     "data": {
      "application/vnd.jupyter.widget-view+json": {
       "model_id": "23a17dbacfee4533aab4e9a7856f7656",
       "version_major": 2,
       "version_minor": 0
      },
      "text/plain": [
       "  0%|          | 0/8 [00:00<?, ?it/s]"
      ]
     },
     "metadata": {},
     "output_type": "display_data"
    }
   ],
   "source": [
    "ground_truth = read_planes(gt_folder)\n",
    "algo_planes = read_planes(planes_folder)"
   ]
  },
  {
   "cell_type": "code",
   "execution_count": 178,
   "metadata": {},
   "outputs": [],
   "source": [
    "calc_plane_voxels(ground_truth,grid)\n",
    "calc_plane_voxels(algo_planes,grid)"
   ]
  },
  {
   "cell_type": "code",
   "execution_count": 202,
   "metadata": {},
   "outputs": [
    {
     "data": {
      "application/vnd.jupyter.widget-view+json": {
       "model_id": "a76ecad12b3847f4940a155afd935175",
       "version_major": 2,
       "version_minor": 0
      },
      "text/plain": [
       "  0%|          | 0/8 [00:00<?, ?it/s]"
      ]
     },
     "metadata": {},
     "output_type": "display_data"
    },
    {
     "name": "stdout",
     "output_type": "stream",
     "text": [
      "<__main__.Plane object at 0x7f80ad542640>\n",
      "<__main__.Plane object at 0x7f8018b5d9a0>\n",
      "<__main__.Plane object at 0x7f806b22a610>\n",
      "<__main__.Plane object at 0x7f806b044790>\n",
      "<__main__.Plane object at 0x7f806b329850>\n",
      "<__main__.Plane object at 0x7f806b22a610>\n",
      "<__main__.Plane object at 0x7f806b22aee0>\n",
      "<__main__.Plane object at 0x7f806b22a610>\n"
     ]
    }
   ],
   "source": [
    "correspondences = find_correspondences(ground_truth,algo_planes)"
   ]
  },
  {
   "cell_type": "code",
   "execution_count": 180,
   "metadata": {},
   "outputs": [
    {
     "data": {
      "application/vnd.jupyter.widget-view+json": {
       "model_id": "13df5345017045f1b1cd49b2934ba140",
       "version_major": 2,
       "version_minor": 0
      },
      "text/plain": [
       "  0%|          | 0/8 [00:00<?, ?it/s]"
      ]
     },
     "metadata": {},
     "output_type": "display_data"
    },
    {
     "name": "stdout",
     "output_type": "stream",
     "text": [
      "tmp_c / tmp_all = 0.9992743105950653\n",
      "tmp_c / tmp_all = 1.0\n",
      "tmp_c / tmp_all = 1.0\n",
      "tmp_c / tmp_all = 1.0\n",
      "tmp_c / tmp_all = 1.0\n",
      "tmp_c / tmp_all = 1.0\n",
      "tmp_c / tmp_all = 1.0\n",
      "tmp_c / tmp_all = 1.0\n",
      "precision = 0.999940716148921\n"
     ]
    }
   ],
   "source": [
    "precision = get_precision(correspondences, grid)\n",
    "print(f'{precision = }')\n"
   ]
  },
  {
   "cell_type": "code",
   "execution_count": 199,
   "metadata": {},
   "outputs": [
    {
     "data": {
      "application/vnd.jupyter.widget-view+json": {
       "model_id": "77ad4904616f486a86a4e3006a8dc28c",
       "version_major": 2,
       "version_minor": 0
      },
      "text/plain": [
       "  0%|          | 0/45 [00:00<?, ?it/s]"
      ]
     },
     "metadata": {},
     "output_type": "display_data"
    },
    {
     "name": "stdout",
     "output_type": "stream",
     "text": [
      "recall = 0.5369752784236935\n"
     ]
    }
   ],
   "source": [
    "\n",
    "recall = get_recall(ground_truth, correspondences, grid)\n",
    "print(f'{recall = }')"
   ]
  },
  {
   "cell_type": "code",
   "execution_count": 182,
   "metadata": {},
   "outputs": [
    {
     "name": "stdout",
     "output_type": "stream",
     "text": [
      "f1 = 0.3493642114190942\n"
     ]
    }
   ],
   "source": [
    "\n",
    "f1 = (precision * recall) / (precision + recall)\n",
    "print(f'{f1 = }')"
   ]
  },
  {
   "cell_type": "code",
   "execution_count": 222,
   "metadata": {},
   "outputs": [
    {
     "name": "stderr",
     "output_type": "stream",
     "text": [
      "/tmp/ipykernel_289475/3189615615.py:1: VisibleDeprecationWarning: Creating an ndarray from ragged nested sequences (which is a list-or-tuple of lists-or-tuples-or ndarrays with different lengths or shapes) is deprecated. If you meant to do this, you must specify 'dtype=object' when creating the ndarray.\n",
      "  found_pts = np.array([p.inliers for p in ground_truth if p.found])\n"
     ]
    },
    {
     "ename": "RuntimeError",
     "evalue": "Unable to cast Python instance to C++ type (compile in debug mode for details)",
     "output_type": "error",
     "traceback": [
      "\u001b[0;31m---------------------------------------------------------------------------\u001b[0m",
      "\u001b[0;31mRuntimeError\u001b[0m                              Traceback (most recent call last)",
      "\u001b[1;32m/home/pedda/Documents/uni/BA/Thesis/catkin_ws/src/plane-detection/src/EVAL/rspd_eval.ipynb Cell 19\u001b[0m in \u001b[0;36m<cell line: 8>\u001b[0;34m()\u001b[0m\n\u001b[1;32m      <a href='vscode-notebook-cell:/home/pedda/Documents/uni/BA/Thesis/catkin_ws/src/plane-detection/src/EVAL/rspd_eval.ipynb#ch0000019?line=5'>6</a>\u001b[0m P \u001b[39m=\u001b[39m np\u001b[39m.\u001b[39marray(P)\n\u001b[1;32m      <a href='vscode-notebook-cell:/home/pedda/Documents/uni/BA/Thesis/catkin_ws/src/plane-detection/src/EVAL/rspd_eval.ipynb#ch0000019?line=6'>7</a>\u001b[0m gt_pcd \u001b[39m=\u001b[39m o3d\u001b[39m.\u001b[39mgeometry\u001b[39m.\u001b[39mPointCloud()\n\u001b[0;32m----> <a href='vscode-notebook-cell:/home/pedda/Documents/uni/BA/Thesis/catkin_ws/src/plane-detection/src/EVAL/rspd_eval.ipynb#ch0000019?line=7'>8</a>\u001b[0m gt_pcd\u001b[39m.\u001b[39mpoints \u001b[39m=\u001b[39m o3d\u001b[39m.\u001b[39;49mutility\u001b[39m.\u001b[39;49mVector3dVector(found_pts)\n\u001b[1;32m      <a href='vscode-notebook-cell:/home/pedda/Documents/uni/BA/Thesis/catkin_ws/src/plane-detection/src/EVAL/rspd_eval.ipynb#ch0000019?line=8'>9</a>\u001b[0m gt_grid \u001b[39m=\u001b[39m o3d\u001b[39m.\u001b[39mgeometry\u001b[39m.\u001b[39mVoxelGrid\u001b[39m.\u001b[39mcreate_from_point_cloud(gt_pcd,voxel_size\u001b[39m=\u001b[39m\u001b[39m0.05\u001b[39m)\n\u001b[1;32m     <a href='vscode-notebook-cell:/home/pedda/Documents/uni/BA/Thesis/catkin_ws/src/plane-detection/src/EVAL/rspd_eval.ipynb#ch0000019?line=9'>10</a>\u001b[0m o3d\u001b[39m.\u001b[39mvisualization\u001b[39m.\u001b[39mdraw_geometries([gt_grid])\n",
      "\u001b[0;31mRuntimeError\u001b[0m: Unable to cast Python instance to C++ type (compile in debug mode for details)"
     ]
    }
   ],
   "source": [
    "found_pts = np.array([p.inliers for p in ground_truth if p.found])\n",
    "P = []\n",
    "for pts in found_pts:\n",
    "    for ps in pts: \n",
    "        P.append(ps)\n",
    "P = np.array(P)\n",
    "gt_pcd = o3d.geometry.PointCloud()\n",
    "gt_pcd.points = o3d.utility.Vector3dVector(P)\n",
    "gt_grid = o3d.geometry.VoxelGrid.create_from_point_cloud(gt_pcd,voxel_size=0.05)\n",
    "o3d.visualization.draw_geometries([gt_grid])"
   ]
  }
 ],
 "metadata": {
  "kernelspec": {
   "display_name": "Python 3.8.10 ('venv')",
   "language": "python",
   "name": "python3"
  },
  "language_info": {
   "codemirror_mode": {
    "name": "ipython",
    "version": 3
   },
   "file_extension": ".py",
   "mimetype": "text/x-python",
   "name": "python",
   "nbconvert_exporter": "python",
   "pygments_lexer": "ipython3",
   "version": "3.8.10"
  },
  "orig_nbformat": 4,
  "vscode": {
   "interpreter": {
    "hash": "4d16a57b7ae18c3300e49b313b1191716f005f692ac5b8956b4128b9fdfb298d"
   }
  }
 },
 "nbformat": 4,
 "nbformat_minor": 2
}
